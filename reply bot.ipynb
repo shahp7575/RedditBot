{
 "cells": [
  {
   "cell_type": "code",
   "execution_count": 1,
   "metadata": {
    "collapsed": true
   },
   "outputs": [],
   "source": [
    "import praw\n",
    "import pdb\n",
    "import re\n",
    "import os\n",
    "from praw.exceptions import APIException"
   ]
  },
  {
   "cell_type": "code",
   "execution_count": 2,
   "metadata": {
    "collapsed": true
   },
   "outputs": [],
   "source": [
    "# creating a reddit instance\n",
    "reddit = praw.Reddit('bot1')"
   ]
  },
  {
   "cell_type": "code",
   "execution_count": 3,
   "metadata": {
    "collapsed": true
   },
   "outputs": [],
   "source": [
    "# text file to store posts that have already been replied to (later use a .csv or a sql database)\n",
    "if not os.path.isfile('posts_replied_to.txt'):\n",
    "    posts_replied_to = []\n",
    "    \n",
    "# loading the list of posts bot has already replied to\n",
    "else:\n",
    "    with open('posts_replied_to.txt', 'r') as f:\n",
    "        posts_replied_to = f.read().split('\\n')\n",
    "        posts_replied_to = list(filter(None, posts_replied_to))"
   ]
  },
  {
   "cell_type": "code",
   "execution_count": 4,
   "metadata": {},
   "outputs": [
    {
     "data": {
      "text/plain": [
       "['2naxro',\n",
       " 'e0w119',\n",
       " 'e0unnu',\n",
       " 'dzgoli',\n",
       " 'dx43if',\n",
       " 'dx3krx',\n",
       " 'dx2iy1',\n",
       " 'dwtdrn',\n",
       " 'dvlhas',\n",
       " 'duf7kv']"
      ]
     },
     "execution_count": 4,
     "metadata": {},
     "output_type": "execute_result"
    }
   ],
   "source": [
    "posts_replied_to"
   ]
  },
  {
   "cell_type": "code",
   "execution_count": 5,
   "metadata": {},
   "outputs": [
    {
     "name": "stdout",
     "output_type": "stream",
     "text": [
      "Bot Replying to  I love python !\n",
      "Cannot reply to I love pyThOn  because  RATELIMIT: 'you are doing that too much. try again in 9 minutes.' on field 'ratelimit'\n"
     ]
    }
   ],
   "source": [
    "# Get the top 5 values from our subreddit\n",
    "subreddit = reddit.subreddit('pythonforengineers')\n",
    "for submission in subreddit.hot(limit=10):\n",
    "    #print(submission.title)\n",
    "    \n",
    "    # if we haven't replied to this post before\n",
    "    if submission.id not in posts_replied_to:\n",
    "        \n",
    "        try:\n",
    "            if re.search('i love python', submission.title, re.IGNORECASE):\n",
    "                submission.reply('BOOM BOOM BOOM!')\n",
    "                print('Bot Replying to ', submission.title)\n",
    "        except APIException as e:\n",
    "            print(\"Cannot reply to\", submission.title, \" because \", e)\n",
    "        # Store that id into the list\n",
    "        posts_replied_to.append(submission.id)"
   ]
  },
  {
   "cell_type": "code",
   "execution_count": 6,
   "metadata": {
    "collapsed": true
   },
   "outputs": [],
   "source": [
    "# Write the updated list back to the text file\n",
    "with open('posts_replied_to.txt', 'w') as f:\n",
    "    for post_id in posts_replied_to:\n",
    "        f.write(post_id + \"\\n\")"
   ]
  },
  {
   "cell_type": "code",
   "execution_count": null,
   "metadata": {
    "collapsed": true
   },
   "outputs": [],
   "source": []
  },
  {
   "cell_type": "code",
   "execution_count": null,
   "metadata": {
    "collapsed": true
   },
   "outputs": [],
   "source": []
  },
  {
   "cell_type": "code",
   "execution_count": null,
   "metadata": {
    "collapsed": true
   },
   "outputs": [],
   "source": []
  },
  {
   "cell_type": "code",
   "execution_count": null,
   "metadata": {
    "collapsed": true
   },
   "outputs": [],
   "source": []
  }
 ],
 "metadata": {
  "kernelspec": {
   "display_name": "Python 3",
   "language": "python",
   "name": "python3"
  },
  "language_info": {
   "codemirror_mode": {
    "name": "ipython",
    "version": 3
   },
   "file_extension": ".py",
   "mimetype": "text/x-python",
   "name": "python",
   "nbconvert_exporter": "python",
   "pygments_lexer": "ipython3",
   "version": "3.6.7"
  }
 },
 "nbformat": 4,
 "nbformat_minor": 2
}
